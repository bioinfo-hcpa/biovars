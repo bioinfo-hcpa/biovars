{
 "cells": [
  {
   "cell_type": "code",
   "execution_count": 1,
   "id": "ae7c16fe",
   "metadata": {},
   "outputs": [],
   "source": [
    "import pynoma\n",
    "import pyabraom \n",
    "import pandas as pd\n",
    "import numpy as np"
   ]
  },
  {
   "cell_type": "code",
   "execution_count": 2,
   "id": "b7eb6786",
   "metadata": {},
   "outputs": [],
   "source": [
    "gn2 = pynoma.batch_search([pynoma.GeneSearch(2,\"idua\"),\n",
    "                          pynoma.GeneSearch(2,\"id4\"),\n",
    "                          pynoma.GeneSearch(2,\"ace2\"),\n",
    "                          pynoma.GeneSearch(2,\"brca1\"),\n",
    "                          pynoma.GeneSearch(2,\"HADHA\")])\n",
    "\n",
    "gn3 = pynoma.batch_search([pynoma.GeneSearch(3,\"idua\"),\n",
    "                          pynoma.GeneSearch(3,\"id4\"),\n",
    "                          pynoma.GeneSearch(3,\"ace2\"),\n",
    "                          pynoma.GeneSearch(3,\"brca1\"),\n",
    "                          pynoma.GeneSearch(3,\"HADHA\")])"
   ]
  },
  {
   "cell_type": "code",
   "execution_count": 9,
   "id": "01533bda",
   "metadata": {},
   "outputs": [],
   "source": [
    "gn2_ann = gn2[\"Annotation\"].unique()\n",
    "gn3_ann = gn3[\"Annotation\"].unique()"
   ]
  },
  {
   "cell_type": "code",
   "execution_count": 10,
   "id": "2552b1a9",
   "metadata": {},
   "outputs": [
    {
     "data": {
      "text/plain": [
       "15"
      ]
     },
     "execution_count": 10,
     "metadata": {},
     "output_type": "execute_result"
    }
   ],
   "source": [
    "len(gn2_ann)"
   ]
  },
  {
   "cell_type": "code",
   "execution_count": 12,
   "id": "28a9e683",
   "metadata": {},
   "outputs": [
    {
     "data": {
      "text/plain": [
       "15"
      ]
     },
     "execution_count": 12,
     "metadata": {},
     "output_type": "execute_result"
    }
   ],
   "source": [
    "len(gn3_ann)"
   ]
  },
  {
   "cell_type": "code",
   "execution_count": 13,
   "id": "40e4f253",
   "metadata": {},
   "outputs": [
    {
     "data": {
      "text/plain": [
       "15"
      ]
     },
     "execution_count": 13,
     "metadata": {},
     "output_type": "execute_result"
    }
   ],
   "source": [
    "gn_ann = set(gn2_ann) & set(gn3_ann)\n",
    "len(gn_ann)"
   ]
  },
  {
   "cell_type": "code",
   "execution_count": 16,
   "id": "61dff1a0",
   "metadata": {},
   "outputs": [],
   "source": [
    "abr1 = pyabraom.Search_gene(\"hg38\", \"idua\")\n",
    "abr2 = pyabraom.Search_gene(\"hg38\", \"id4\")\n",
    "abr3 = pyabraom.Search_gene(\"hg38\", \"ace2\")\n",
    "abr4 = pyabraom.Search_gene(\"hg38\", \"brca1\")\n",
    "abr5 = pyabraom.Search_gene(\"hg38\", \"HADHA\")\n",
    "\n",
    "all_abr = [abr1,abr2,abr3,abr4,abr5]"
   ]
  },
  {
   "cell_type": "code",
   "execution_count": 18,
   "id": "6ee2c165",
   "metadata": {},
   "outputs": [],
   "source": [
    "concat_abr = pd.concat(all_abr)"
   ]
  },
  {
   "cell_type": "code",
   "execution_count": 24,
   "id": "8b7b986a",
   "metadata": {},
   "outputs": [
    {
     "data": {
      "text/plain": [
       "14"
      ]
     },
     "execution_count": 24,
     "metadata": {},
     "output_type": "execute_result"
    }
   ],
   "source": [
    "abr_ann = concat_abr[\"Annotation\"].unique()\n",
    "len(abr_ann)"
   ]
  },
  {
   "cell_type": "code",
   "execution_count": 25,
   "id": "4a19b297",
   "metadata": {},
   "outputs": [
    {
     "data": {
      "text/plain": [
       "array(['nonsynonymous SNV', 'synonymous SNV', 'nonframeshift insertion',\n",
       "       'frameshift deletion', 'nonframeshift deletion', 'intronic',\n",
       "       'exonic;splicing', 'frameshift insertion', 'stopgain', 'UTR3',\n",
       "       'UTR5', 'intergenic', 'downstream', 'splicing'], dtype=object)"
      ]
     },
     "execution_count": 25,
     "metadata": {},
     "output_type": "execute_result"
    }
   ],
   "source": [
    "abr_ann"
   ]
  },
  {
   "cell_type": "code",
   "execution_count": 23,
   "id": "f417e6d9",
   "metadata": {},
   "outputs": [
    {
     "data": {
      "text/plain": [
       "{'3_prime_UTR_variant',\n",
       " '5_prime_UTR_variant',\n",
       " 'frameshift_variant',\n",
       " 'inframe_deletion',\n",
       " 'inframe_insertion',\n",
       " 'intron_variant',\n",
       " 'missense_variant',\n",
       " 'protein_altering_variant',\n",
       " 'splice_acceptor_variant',\n",
       " 'splice_donor_variant',\n",
       " 'splice_region_variant',\n",
       " 'start_lost',\n",
       " 'stop_gained',\n",
       " 'stop_lost',\n",
       " 'synonymous_variant'}"
      ]
     },
     "execution_count": 23,
     "metadata": {},
     "output_type": "execute_result"
    }
   ],
   "source": [
    "gn_ann"
   ]
  },
  {
   "cell_type": "code",
   "execution_count": null,
   "id": "edf3bcd4",
   "metadata": {},
   "outputs": [],
   "source": []
  }
 ],
 "metadata": {
  "kernelspec": {
   "display_name": "Python 3",
   "language": "python",
   "name": "python3"
  },
  "language_info": {
   "codemirror_mode": {
    "name": "ipython",
    "version": 3
   },
   "file_extension": ".py",
   "mimetype": "text/x-python",
   "name": "python",
   "nbconvert_exporter": "python",
   "pygments_lexer": "ipython3",
   "version": "3.6.13"
  }
 },
 "nbformat": 4,
 "nbformat_minor": 5
}
